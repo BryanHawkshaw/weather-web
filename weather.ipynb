{
 "cells": [
  {
   "cell_type": "code",
   "execution_count": 1,
   "metadata": {},
   "outputs": [],
   "source": [
    "from dotenv import load_dotenv\n",
    "from pprint import pprint\n",
    "import requests\n",
    "import os"
   ]
  },
  {
   "cell_type": "code",
   "execution_count": 4,
   "metadata": {},
   "outputs": [
    {
     "data": {
      "text/plain": [
       "True"
      ]
     },
     "execution_count": 4,
     "metadata": {},
     "output_type": "execute_result"
    }
   ],
   "source": [
    "load_dotenv()"
   ]
  },
  {
   "cell_type": "code",
   "execution_count": 6,
   "metadata": {},
   "outputs": [
    {
     "name": "stdout",
     "output_type": "stream",
     "text": [
      "\n",
      "*** Get Current Weather Conditions ***\n",
      "\n",
      "\n",
      "\n",
      "{'cod': '400', 'message': 'Nothing to geocode'}\n"
     ]
    }
   ],
   "source": [
    "def get_current_weather(city=\"Budapest\"):\n",
    "    \n",
    "    request_url = f'http://api.openweathermap.org/data/2.5/weather?appid={os.getenv(\"API_KEY\")}&q={city}&units=imperial'\n",
    "    \n",
    "    weather_data = requests.get(request_url).json()\n",
    "    \n",
    "    return weather_data\n",
    "\n",
    "if __name__ == \"__main__\":\n",
    "    print('\\n*** Get Current Weather Conditions ***\\n')\n",
    "    \n",
    "    city = input(\"\\nPlease enter a city name: \")\n",
    "    \n",
    "    weather_data = get_current_weather(city)\n",
    "    \n",
    "    print(\"\\n\")\n",
    "    pprint(weather_data)"
   ]
  },
  {
   "cell_type": "code",
   "execution_count": null,
   "metadata": {},
   "outputs": [],
   "source": []
  }
 ],
 "metadata": {
  "kernelspec": {
   "display_name": ".venv",
   "language": "python",
   "name": "python3"
  },
  "language_info": {
   "codemirror_mode": {
    "name": "ipython",
    "version": 3
   },
   "file_extension": ".py",
   "mimetype": "text/x-python",
   "name": "python",
   "nbconvert_exporter": "python",
   "pygments_lexer": "ipython3",
   "version": "3.12.3"
  }
 },
 "nbformat": 4,
 "nbformat_minor": 2
}
